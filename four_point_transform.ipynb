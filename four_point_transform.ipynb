{
 "metadata": {
  "language_info": {
   "codemirror_mode": {
    "name": "ipython",
    "version": 3
   },
   "file_extension": ".py",
   "mimetype": "text/x-python",
   "name": "python",
   "nbconvert_exporter": "python",
   "pygments_lexer": "ipython3",
   "version": "3.8.5-final"
  },
  "orig_nbformat": 2,
  "kernelspec": {
   "name": "python3",
   "display_name": "Python 3"
  }
 },
 "nbformat": 4,
 "nbformat_minor": 2,
 "cells": [
  {
   "cell_type": "code",
   "execution_count": 6,
   "metadata": {},
   "outputs": [],
   "source": [
    "import numpy as np\n",
    "import cv2"
   ]
  },
  {
   "cell_type": "code",
   "execution_count": 7,
   "metadata": {},
   "outputs": [],
   "source": [
    "def order_points(points):\n",
    "    # Order points to [top-left, top-right, bottom-right, bottom-left].\n",
    "    # Maintaining a consistent ordering of points is important.\n",
    "    # Remind: image pixel coordinate\n",
    "    \"\"\"\n",
    "    -------------> x\n",
    "    |\n",
    "    |\n",
    "    |\n",
    "    |\n",
    "    |\n",
    "    |\n",
    "    v\n",
    "    y\n",
    "    \"\"\"\n",
    "\n",
    "    rect = np.zeros((4, 2), dtype='float32')  # return value\n",
    "\n",
    "    # top-left will have the smallest sum (x + y)\n",
    "    # bottom-right will have the largets sum (x + y)\n",
    "    s = points.sum(axis=1)\n",
    "    rect[0] = points[np.argmin(s)]\n",
    "    rect[2] = points[np.argmax(s)]\n",
    "\n",
    "    # top-right will have the smallest diff (y - x)\n",
    "    # bottom-left will have the largest diff (y - x)\n",
    "    diff = np.diff(points, axis=1)\n",
    "    rect[1] = points[np.argmin(diff)]\n",
    "    rect[3] = points[np.argmax(diff)]\n",
    "\n",
    "    return rect\n"
   ]
  },
  {
   "cell_type": "code",
   "execution_count": 8,
   "metadata": {},
   "outputs": [
    {
     "output_type": "execute_result",
     "data": {
      "text/plain": [
       "array([[0., 0.],\n",
       "       [1., 0.],\n",
       "       [1., 1.],\n",
       "       [0., 1.]], dtype=float32)"
      ]
     },
     "metadata": {},
     "execution_count": 8
    }
   ],
   "source": [
    "order_points(np.array([[0, 0], [1, 1], [0, 1], [1, 0]]))"
   ]
  },
  {
   "cell_type": "code",
   "execution_count": 9,
   "metadata": {},
   "outputs": [],
   "source": [
    "def four_points_transform(image, points):\n",
    "    # Order points first\n",
    "    rect = order_points(points)\n",
    "    (tl, tr, br, bl) = rect\n",
    "\n",
    "    # Compute the size of new transformed image\n",
    "    \"\"\"\n",
    "    -------------> x\n",
    "    |\n",
    "    |  tl     tr\n",
    "    |\n",
    "    |\n",
    "    |\n",
    "    |  bl     br\n",
    "    v\n",
    "    y\n",
    "    \"\"\"\n",
    "    \n",
    "    widthA = np.sqrt((br[0] - bl[0])**2 + (br[1] - bl[1])**2)\n",
    "    widthB = np.sqrt((tr[0] - tl[0])**2 + (tr[1] - tl[1])**2)\n",
    "    maxWidth = max(int(widthA), int(widthB))\n",
    "\n",
    "    heightA = np.sqrt((tr[0] - br[0])**2 + (tr[1] - br[1])**2)\n",
    "    heightB = np.sqrt((tl[0] - bl[0])**2 + (tl[1] - bl[1])**2)\n",
    "    maxHeight = max(int(heightA), int(heightB))\n",
    "\n",
    "    dest = np.array([\n",
    "        [0, 0],  # top-left corner\n",
    "        [maxWidth, 0],  # top-right corner\n",
    "        [maxWidth, maxHeight],  # bottom-right corner\n",
    "        [0, maxHeight]  # bottom-left corner\n",
    "    ], dtype='float32')\n",
    "\n",
    "    # Compute the perspective transform matrix\n",
    "    M = cv2.getPerspectiveTransform(rect, dest)\n",
    "    # Apply it\n",
    "    warped = cv2.warpPerspective(image, M, (maxWidth, maxHeight))\n",
    "\n",
    "    return warped\n"
   ]
  },
  {
   "cell_type": "code",
   "execution_count": 10,
   "metadata": {},
   "outputs": [],
   "source": [
    "image = cv2.imread('./arisu_mia.JPG')\n",
    "iamge = cv2.cvtColor(image, cv2.COLOR_BGR2RGB)\n",
    "\n",
    "points = np.array([[577, 142], [918, 201], [891, 703], [513, 656]])\n",
    "\n",
    "warped = four_points_transform(image, points)\n",
    "\n",
    "cv2.polylines(image, [points.reshape((-1, 1, 2))], True, (0, 0, 255), 3)\n",
    "cv2.imshow(\"image\", image)\n",
    "cv2.imshow(\"warped\", warped)\n",
    "cv2.waitKey(0)\n",
    "cv2.destroyAllWindows()"
   ]
  },
  {
   "cell_type": "code",
   "execution_count": null,
   "metadata": {},
   "outputs": [],
   "source": []
  }
 ]
}